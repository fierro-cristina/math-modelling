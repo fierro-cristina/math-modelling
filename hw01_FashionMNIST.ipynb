{
  "nbformat": 4,
  "nbformat_minor": 0,
  "metadata": {
    "colab": {
      "name": "hw01-FashionMNIST.ipynb",
      "provenance": []
    },
    "kernelspec": {
      "name": "python3",
      "display_name": "Python 3"
    }
  },
  "cells": [
    {
      "cell_type": "code",
      "metadata": {
        "id": "pQ1dksppzpkS",
        "colab_type": "code",
        "colab": {}
      },
      "source": [
        "import torch\n",
        "import torch.nn as nn\n",
        "import torch.optim as optim\n",
        "import matplotlib.pyplot as plt\n",
        "import numpy as np\n",
        "import torchvision\n",
        "import torchvision.transforms as transforms"
      ],
      "execution_count": 0,
      "outputs": []
    },
    {
      "cell_type": "code",
      "metadata": {
        "id": "BqAFInXnz_wX",
        "colab_type": "code",
        "colab": {}
      },
      "source": [
        "train_data = torchvision.datasets.FashionMNIST(root = \"./data\", \n",
        "                                               train = True, download = True, \n",
        "                                               transform = transforms.ToTensor())\n",
        "train_loader = torch.utils.data.DataLoader(train_data, batch_size=4, shuffle = True)\n",
        "data_iterator = iter(train_loader)\n",
        "images, labels = data_iterator.next()"
      ],
      "execution_count": 0,
      "outputs": []
    },
    {
      "cell_type": "markdown",
      "metadata": {
        "id": "xqEtNZWI043X",
        "colab_type": "text"
      },
      "source": [
        "**Visualizing the data.**"
      ]
    },
    {
      "cell_type": "code",
      "metadata": {
        "id": "YmdnUKkO0_AP",
        "colab_type": "code",
        "colab": {
          "base_uri": "https://localhost:8080/",
          "height": 159
        },
        "outputId": "13a24794-3f3d-4f91-dc74-5961e375cfcc"
      },
      "source": [
        "im = images[1]\n",
        "np_im = im.numpy()\n",
        "np.squeeze(np_im).shape\n",
        "plt.figure(figsize = (2,2))\n",
        "plt.imshow(np.squeeze(np_im), cmap = 'gray')\n",
        "plt.show()"
      ],
      "execution_count": 7,
      "outputs": [
        {
          "output_type": "display_data",
          "data": {
            "image/png": "[encoded data removed]",
            "text/plain": [
              "<Figure size 144x144 with 1 Axes>"
            ]
          },
          "metadata": {
            "tags": []
          }
        }
      ]
    },
    {
      "cell_type": "code",
      "metadata": {
        "id": "TvPxlzva1kRL",
        "colab_type": "code",
        "colab": {
          "base_uri": "https://localhost:8080/",
          "height": 155
        },
        "outputId": "9b758b6b-98a4-4a90-a668-86d7a59f442e"
      },
      "source": [
        "classes = ('T-Shirt','Trouser','Pullover','Dress','Coat','Sandal','Shirt','Sneaker','Bag','Ankle Boot')\n",
        "\n",
        "def imshow(img):\n",
        "    npimg = img.numpy() #convert the tensor to numpy for displaying the image\n",
        "    plt.imshow(np.transpose(npimg, (1, 2, 0))) #for displaying the image, shape of the image should be height * width * channels\n",
        "    plt.show()\n",
        "\n",
        "imshow(torchvision.utils.make_grid(images))\n",
        "print(' '.join(classes[labels[j]] for j in range(4)))"
      ],
      "execution_count": 8,
      "outputs": [
        {
          "output_type": "display_data",
          "data": {
            "image/png": "[encoded data removed]",
            "text/plain": [
              "<Figure size 432x288 with 1 Axes>"
            ]
          },
          "metadata": {
            "tags": []
          }
        },
        {
          "output_type": "stream",
          "text": [
            "Ankle Boot Shirt Pullover Shirt\n"
          ],
          "name": "stdout"
        }
      ]
    },
    {
      "cell_type": "markdown",
      "metadata": {
        "id": "hSOgRI-Q2DJV",
        "colab_type": "text"
      },
      "source": [
        "**Deep CNN**"
      ]
    },
    {
      "cell_type": "code",
      "metadata": {
        "id": "XRpDbP1H2GGp",
        "colab_type": "code",
        "colab": {}
      },
      "source": [
        "class DeepCNN(nn.Module):\n",
        "  def __init__(self):\n",
        "    super(DeepCNN, self).__init__()\n",
        "    self.model = nn.Sequential(\n",
        "        nn.Conv2d(1, 8, 3),\n",
        "        nn.Conv2d(8, 16, 3)\n",
        "    )\n",
        "  def forward(self, t):\n",
        "    t = self.model(t)\n",
        "    return t"
      ],
      "execution_count": 0,
      "outputs": []
    },
    {
      "cell_type": "code",
      "metadata": {
        "id": "q2K8k3h82rU7",
        "colab_type": "code",
        "colab": {
          "base_uri": "https://localhost:8080/",
          "height": 282
        },
        "outputId": "bd04ca9e-393d-4bd3-dba8-19f337528612"
      },
      "source": [
        "net = DeepCNN()\n",
        "output = net(images)\n",
        "plt.imshow(output[0, 0, :, :].detach().numpy(), cmap = 'gray')"
      ],
      "execution_count": 17,
      "outputs": [
        {
          "output_type": "execute_result",
          "data": {
            "text/plain": [
              "<matplotlib.image.AxesImage at 0x7fe4dc9e9c50>"
            ]
          },
          "metadata": {
            "tags": []
          },
          "execution_count": 17
        },
        {
          "output_type": "display_data",
          "data": {
            "image/png": "[encoded data removed]",
            "text/plain": [
              "<Figure size 432x288 with 1 Axes>"
            ]
          },
          "metadata": {
            "tags": []
          }
        }
      ]
    },
    {
      "cell_type": "markdown",
      "metadata": {
        "id": "9poPty7D3LE4",
        "colab_type": "text"
      },
      "source": [
        "**Deep CNN with MaxPool and Tanh activation.**"
      ]
    },
    {
      "cell_type": "code",
      "metadata": {
        "id": "-u-LUPJQ3UPe",
        "colab_type": "code",
        "colab": {}
      },
      "source": [
        "class DeepCNN_tanh(nn.Module):\n",
        "  def __init__(self):\n",
        "    super(DeepCNN_tanh, self).__init__()\n",
        "    self.model = nn.Sequential(\n",
        "        nn.Conv2d(1, 8, 3),\n",
        "        nn.MaxPool2d(2, stride=2),\n",
        "        nn.Conv2d(8, 16, 3),\n",
        "        nn.MaxPool2d(2, stride=2)\n",
        "    )\n",
        "  def forward(self, t):\n",
        "    t = self.model(t)\n",
        "    return t"
      ],
      "execution_count": 0,
      "outputs": []
    },
    {
      "cell_type": "code",
      "metadata": {
        "id": "DdCw2EoB3kQO",
        "colab_type": "code",
        "colab": {
          "base_uri": "https://localhost:8080/",
          "height": 282
        },
        "outputId": "92085cad-f16f-46a1-fd7c-b36cc1b18ca1"
      },
      "source": [
        "net = DeepCNN_tanh()\n",
        "output = net(images)\n",
        "plt.imshow(output[0, 0, :, :].detach().numpy(), cmap = 'gray')"
      ],
      "execution_count": 19,
      "outputs": [
        {
          "output_type": "execute_result",
          "data": {
            "text/plain": [
              "<matplotlib.image.AxesImage at 0x7fe4dc8827f0>"
            ]
          },
          "metadata": {
            "tags": []
          },
          "execution_count": 19
        },
        {
          "output_type": "display_data",
          "data": {
            "image/png": "[encoded data removed]",
            "text/plain": [
              "<Figure size 432x288 with 1 Axes>"
            ]
          },
          "metadata": {
            "tags": []
          }
        }
      ]
    },
    {
      "cell_type": "code",
      "metadata": {
        "id": "tbgCvSBD3rq7",
        "colab_type": "code",
        "colab": {
          "base_uri": "https://localhost:8080/",
          "height": 282
        },
        "outputId": "4c774dc7-dcf2-47fc-f2eb-8c71382832dc"
      },
      "source": [
        "net = DeepCNN_tanh()\n",
        "output = net(images)\n",
        "plt.imshow(output[0, 1, :, :].detach().numpy(), cmap = 'gray')"
      ],
      "execution_count": 21,
      "outputs": [
        {
          "output_type": "execute_result",
          "data": {
            "text/plain": [
              "<matplotlib.image.AxesImage at 0x7fe4dc6b3160>"
            ]
          },
          "metadata": {
            "tags": []
          },
          "execution_count": 21
        },
        {
          "output_type": "display_data",
          "data": {
            "image/png": "[encoded data removed]",
            "text/plain": [
              "<Figure size 432x288 with 1 Axes>"
            ]
          },
          "metadata": {
            "tags": []
          }
        }
      ]
    },
    {
      "cell_type": "markdown",
      "metadata": {
        "id": "oCFEhDyH4MAR",
        "colab_type": "text"
      },
      "source": [
        "**DeepCNN with 5 kernels, tanh, and maxpooling**"
      ]
    },
    {
      "cell_type": "code",
      "metadata": {
        "id": "cXKouC9H5Brw",
        "colab_type": "code",
        "colab": {}
      },
      "source": [
        "class DeepCNN_5k(nn.Module):\n",
        "  def __init__(self):\n",
        "    super(DeepCNN_5k, self).__init__()\n",
        "    self.model_cnn = nn.Sequential(\n",
        "        nn.Conv2d(1, 6, 5),\n",
        "        nn.Tanh(),\n",
        "        nn.MaxPool2d(2, stride=2),\n",
        "\n",
        "        nn.Conv2d(6, 16, 5),\n",
        "        nn.Tanh(),\n",
        "        nn.MaxPool2d(2, stride=2)\n",
        "    )\n",
        "    self.model = nn.Sequential(\n",
        "        nn.Linear(256, 120),\n",
        "        nn.Tanh(),\n",
        "        nn.Linear(120, 84),\n",
        "        nn.Tanh(),\n",
        "        nn.Linear(84, 10)\n",
        "    )\n",
        "\n",
        "  def forward(self, t):\n",
        "    t = self.model_cnn(t)\n",
        "    t = t.view(t.size(0), -1)\n",
        "    t = self.model(t)\n",
        "    return t"
      ],
      "execution_count": 0,
      "outputs": []
    },
    {
      "cell_type": "code",
      "metadata": {
        "id": "uMnkdJaD54fq",
        "colab_type": "code",
        "colab": {}
      },
      "source": [
        "net = DeepCNN_5k()\n",
        "output = net(images)"
      ],
      "execution_count": 0,
      "outputs": []
    },
    {
      "cell_type": "code",
      "metadata": {
        "id": "FBSR20036saQ",
        "colab_type": "code",
        "colab": {}
      },
      "source": [
        "batch_size = 128\n",
        "\n",
        "train_data = torchvision.datasets.FashionMNIST(root='./data', train=True, download=True, transform=transforms.ToTensor())\n",
        "train_loader = torch.utils.data.DataLoader(train_data, batch_size=batch_size, shuffle=True)\n",
        "test_data = torchvision.datasets.FashionMNIST(root='./data', train=False, download=True, transform=transforms.ToTensor())\n",
        "test_loader = torch.utils.data.DataLoader(test_data, batch_size=batch_size, shuffle=False)"
      ],
      "execution_count": 0,
      "outputs": []
    },
    {
      "cell_type": "code",
      "metadata": {
        "id": "fHJkzDQe7Avi",
        "colab_type": "code",
        "colab": {}
      },
      "source": [
        "def accuracy_evaluation(data_loader):\n",
        "    total, correct = 0, 0\n",
        "    for data in data_loader:\n",
        "        inputs, labels = data\n",
        "        outputs = net(inputs)\n",
        "        _, predictions = torch.max(outputs.data, 1)\n",
        "        total += labels.size(0)\n",
        "        correct += (predictions == labels).sum().item()\n",
        "        \n",
        "    return(100 * correct/total)"
      ],
      "execution_count": 0,
      "outputs": []
    },
    {
      "cell_type": "code",
      "metadata": {
        "id": "BOD9MJCb7Me2",
        "colab_type": "code",
        "colab": {}
      },
      "source": [
        "net = DeepCNN_5k()\n",
        "loss_function = nn.CrossEntropyLoss()\n",
        "optimizer = optim.Adam(net.parameters())"
      ],
      "execution_count": 0,
      "outputs": []
    },
    {
      "cell_type": "code",
      "metadata": {
        "id": "7XDLjtOO7iGa",
        "colab_type": "code",
        "colab": {
          "base_uri": "https://localhost:8080/",
          "height": 453
        },
        "outputId": "78203129-8a80-488d-e98e-6b990330f97c"
      },
      "source": [
        "loss_array = []\n",
        "loss_epoch_array = []\n",
        "max_epochs = 10\n",
        "\n",
        "for epoch in range(max_epochs):\n",
        "\n",
        "    for i, data in enumerate(train_loader, 0):\n",
        "\n",
        "        inputs, labels = data\n",
        "        \n",
        "        #forward pass\n",
        "        outputs = net(inputs)\n",
        "        loss = loss_function(outputs, labels)\n",
        "        \n",
        "        #backward and optimize\n",
        "        optimizer.zero_grad()\n",
        "        loss.backward()\n",
        "        optimizer.step()\n",
        "        \n",
        "        loss_array.append(loss.item())\n",
        "        \n",
        "    loss_epoch_array.append(loss.item())\n",
        "        \n",
        "    print('Epoch: %d/%d, Test acc: %0.2f, Train acc: %0.2f' % (epoch, max_epochs, accuracy_evaluation(test_loader), accuracy_evaluation(train_loader)))\n",
        "    \n",
        "    \n",
        "plt.plot(loss_epoch_array)\n",
        "plt.xlabel(\"Epochs\"), plt.ylabel(\"Loss\")\n",
        "plt.show()"
      ],
      "execution_count": 49,
      "outputs": [
        {
          "output_type": "stream",
          "text": [
            "Epoch: 0/10, Test acc: 89.92, Train acc: 92.05\n",
            "Epoch: 1/10, Test acc: 89.72, Train acc: 92.31\n",
            "Epoch: 2/10, Test acc: 90.07, Train acc: 92.42\n",
            "Epoch: 3/10, Test acc: 89.61, Train acc: 92.50\n",
            "Epoch: 4/10, Test acc: 90.05, Train acc: 93.13\n",
            "Epoch: 5/10, Test acc: 89.63, Train acc: 92.78\n",
            "Epoch: 6/10, Test acc: 90.54, Train acc: 93.75\n",
            "Epoch: 7/10, Test acc: 90.35, Train acc: 93.73\n",
            "Epoch: 8/10, Test acc: 90.29, Train acc: 93.85\n",
            "Epoch: 9/10, Test acc: 90.26, Train acc: 94.20\n"
          ],
          "name": "stdout"
        },
        {
          "output_type": "display_data",
          "data": {
            "image/png": "[encoded data removed]",
            "text/plain": [
              "<Figure size 432x288 with 1 Axes>"
            ]
          },
          "metadata": {
            "tags": []
          }
        }
      ]
    },
    {
      "cell_type": "markdown",
      "metadata": {
        "id": "h-KrLdla_G47",
        "colab_type": "text"
      },
      "source": [
        "**DeepCNN with 5 kernels and ReLU**"
      ]
    },
    {
      "cell_type": "code",
      "metadata": {
        "id": "6w6Vj7ng_Nk2",
        "colab_type": "code",
        "colab": {}
      },
      "source": [
        "class DeepCNN_5k_ReLU(nn.Module):\n",
        "  def __init__(self):\n",
        "    super(DeepCNN_5k_ReLU, self).__init__()\n",
        "    self.model_cnn = nn.Sequential(\n",
        "        nn.Conv2d(1, 6, 5),\n",
        "        nn.ReLU(),\n",
        "        nn.AvgPool2d(2, stride=2),\n",
        "\n",
        "        nn.Conv2d(6, 16, 5),\n",
        "        nn.ReLU(),\n",
        "        nn.AvgPool2d(2, stride=2)\n",
        "    )\n",
        "    self.model = nn.Sequential(\n",
        "        nn.Linear(256, 120),\n",
        "        nn.ReLU(),\n",
        "        nn.Linear(120, 84),\n",
        "        nn.ReLU(),\n",
        "        nn.Linear(84, 10)\n",
        "    )\n",
        "\n",
        "  def forward(self, t):\n",
        "    t = self.model_cnn(t)\n",
        "    t = t.view(t.size(0), -1)\n",
        "    t = self.model(t)\n",
        "    return t"
      ],
      "execution_count": 0,
      "outputs": []
    },
    {
      "cell_type": "code",
      "metadata": {
        "id": "wH8Qf4XtCHE9",
        "colab_type": "code",
        "colab": {}
      },
      "source": [
        "net = DeepCNN_5k_ReLU()\n",
        "loss_function = nn.CrossEntropyLoss()\n",
        "optimizer = optim.Adam(net.parameters())"
      ],
      "execution_count": 0,
      "outputs": []
    },
    {
      "cell_type": "code",
      "metadata": {
        "id": "XcGm7u7YCSgH",
        "colab_type": "code",
        "colab": {
          "base_uri": "https://localhost:8080/",
          "height": 453
        },
        "outputId": "c942fa5b-cd72-4b2e-8d75-2590d20957e8"
      },
      "source": [
        "loss_array = []\n",
        "loss_epoch_array = []\n",
        "max_epochs = 10\n",
        "\n",
        "for epoch in range(max_epochs):\n",
        "\n",
        "    for i, data in enumerate(train_loader, 0):\n",
        "\n",
        "        inputs, labels = data\n",
        "        \n",
        "        #forward pass\n",
        "        outputs = net(inputs)\n",
        "        loss = loss_function(outputs, labels)\n",
        "        \n",
        "        #backward and optimize\n",
        "        optimizer.zero_grad()\n",
        "        loss.backward()\n",
        "        optimizer.step()\n",
        "        \n",
        "        loss_array.append(loss.item())\n",
        "        \n",
        "    loss_epoch_array.append(loss.item())\n",
        "        \n",
        "    print('Epoch: %d/%d, Test acc: %0.2f, Train acc: %0.2f' % (epoch, max_epochs, accuracy_evaluation(test_loader), accuracy_evaluation(train_loader)))\n",
        "    \n",
        "    \n",
        "plt.plot(loss_epoch_array)\n",
        "plt.xlabel(\"Epochs\"), plt.ylabel(\"Loss\")\n",
        "plt.show()"
      ],
      "execution_count": 58,
      "outputs": [
        {
          "output_type": "stream",
          "text": [
            "Epoch: 0/10, Test acc: 79.22, Train acc: 79.86\n",
            "Epoch: 1/10, Test acc: 82.82, Train acc: 83.89\n",
            "Epoch: 2/10, Test acc: 84.85, Train acc: 86.21\n",
            "Epoch: 3/10, Test acc: 84.75, Train acc: 85.95\n",
            "Epoch: 4/10, Test acc: 86.51, Train acc: 87.57\n",
            "Epoch: 5/10, Test acc: 85.76, Train acc: 86.88\n",
            "Epoch: 6/10, Test acc: 87.65, Train acc: 88.83\n",
            "Epoch: 7/10, Test acc: 87.93, Train acc: 88.55\n",
            "Epoch: 8/10, Test acc: 87.88, Train acc: 88.64\n",
            "Epoch: 9/10, Test acc: 88.25, Train acc: 89.34\n"
          ],
          "name": "stdout"
        },
        {
          "output_type": "display_data",
          "data": {
            "image/png": "[encoded data removed]",
            "text/plain": [
              "<Figure size 432x288 with 1 Axes>"
            ]
          },
          "metadata": {
            "tags": []
          }
        }
      ]
    }
  ]
}